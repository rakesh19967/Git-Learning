{
 "cells": [
  {
   "cell_type": "markdown",
   "metadata": {},
   "source": [
    "### Concepts\n",
    "- Basics\n",
    "- Datatypes and conversions\n",
    "- Control statements\n",
    "   - conditional statements\n",
    "   - Looping Statements\n",
    "- Functional Programming\n",
    "- List, Tuples,sets and Dict\n",
    "- External Packages\n",
    "  - Math\n",
    "- Regular Expressions\n",
    "- File Handling \n",
    "   - Reading the File data\n",
    "   - writing the File data\n",
    "   - perform the operations on the File\n",
    "- OOPS\n",
    "    - class\n",
    "    - Objects\n",
    "    - methods\n",
    "    - Construtors\n",
    "    - Inheritance\n",
    "- Expection Handling\n",
    "- List comprehances,Lamda\n",
    "- \n",
    "    "
   ]
  },
  {
   "cell_type": "markdown",
   "metadata": {},
   "source": [
    "- Functional Programming\n",
    "    - reduce the Complex\n",
    "    - Resusable Block\n",
    "    - Divides the lengthy Program into sub blocks so that it is easy for end\n",
    "    - variable names and function names can be written in Camel Case."
   ]
  },
  {
   "cell_type": "markdown",
   "metadata": {},
   "source": [
    "def funName(<parameters>):\n",
    "    return"
   ]
  },
  {
   "cell_type": "code",
   "execution_count": 4,
   "metadata": {},
   "outputs": [
    {
     "name": "stdout",
     "output_type": "stream",
     "text": [
      "test() function...\n"
     ]
    }
   ],
   "source": [
    "def test():\n",
    "    print(\"test() function...\")\n",
    "    return\n",
    "test() #Function without parameters and without return Value"
   ]
  },
  {
   "cell_type": "code",
   "execution_count": 8,
   "metadata": {},
   "outputs": [
    {
     "data": {
      "text/plain": [
       "'Dhyanahita'"
      ]
     },
     "execution_count": 8,
     "metadata": {},
     "output_type": "execute_result"
    }
   ],
   "source": [
    "def isTest():\n",
    "    return \"Dhyanahita\"\n",
    "isTest()"
   ]
  },
  {
   "cell_type": "code",
   "execution_count": 12,
   "metadata": {},
   "outputs": [
    {
     "data": {
      "text/plain": [
       "123"
      ]
     },
     "execution_count": 12,
     "metadata": {},
     "output_type": "execute_result"
    }
   ],
   "source": [
    "def isTestWork(x):\n",
    "    return a\n",
    "x = 123\n",
    "isTestWork(x)"
   ]
  },
  {
   "cell_type": "code",
   "execution_count": 2,
   "metadata": {},
   "outputs": [
    {
     "name": "stdout",
     "output_type": "stream",
     "text": [
      "[1, 2, 3] <class 'list'>\n"
     ]
    }
   ],
   "source": [
    "def isTestWork(a):\n",
    "    return a\n",
    "a=[1,2,3]\n",
    "print(isTestWork(a),type(a))"
   ]
  },
  {
   "cell_type": "code",
   "execution_count": 3,
   "metadata": {},
   "outputs": [
    {
     "data": {
      "text/plain": [
       "list"
      ]
     },
     "execution_count": 3,
     "metadata": {},
     "output_type": "execute_result"
    }
   ],
   "source": [
    "def inputTest(a):\n",
    "    return type(a)\n",
    "a=[1,2,3]\n",
    "inputTest(a)"
   ]
  },
  {
   "cell_type": "markdown",
   "metadata": {},
   "source": [
    "### coding standards\n",
    "- Variable names : Use a lowercase single letter, word, or words. Separate words with underscores to improve readability.(x, var, my_variable,numTest)\n",
    "- Function Name : Use a lowercase word or words. Separate words by underscores to improve readability.(function, my_function,funTest())\n",
    "- Constructor Name : In Python the __init__() method is called the constructor and is always called when an object is created.(__init__)\n",
    "- class Name :Start each word with a capital letter. Do not separate words with underscores. This style is called camel case.( Model, MyClass)\n",
    "- import : import packagename\n",
    "- import : from packagename import function1,function2...."
   ]
  },
  {
   "cell_type": "markdown",
   "metadata": {},
   "source": [
    "### External Packages : import statements re,math,pandas,mathlib\n",
    "### Regular Experssions Creating \n",
    "- regexpal - test and work with re \n",
    "- checking for number\n",
    "- checking for Lower case and Upper case\n",
    "- Checking for special Characters"
   ]
  },
  {
   "cell_type": "code",
   "execution_count": 6,
   "metadata": {},
   "outputs": [
    {
     "ename": "SyntaxError",
     "evalue": "invalid syntax (<ipython-input-6-92ccc727a602>, line 2)",
     "output_type": "error",
     "traceback": [
      "\u001b[1;36m  File \u001b[1;32m\"<ipython-input-6-92ccc727a602>\"\u001b[1;36m, line \u001b[1;32m2\u001b[0m\n\u001b[1;33m    def match('DHS00120'):\u001b[0m\n\u001b[1;37m                       ^\u001b[0m\n\u001b[1;31mSyntaxError\u001b[0m\u001b[1;31m:\u001b[0m invalid syntax\n"
     ]
    }
   ],
   "source": [
    "import re\n",
    "def match('DHS00120'):\n",
    "    pattern = '^[D]{1}[H]{1}[S]{1}[0]{2}[0-9]{3}$'\n",
    "    if re.match():\n",
    "        return True\n",
    "    return False\n"
   ]
  },
  {
   "cell_type": "code",
   "execution_count": 10,
   "metadata": {},
   "outputs": [
    {
     "data": {
      "text/plain": [
       "True"
      ]
     },
     "execution_count": 10,
     "metadata": {},
     "output_type": "execute_result"
    }
   ],
   "source": [
    "#validate - DHS00120\n",
    "#DHS00120 - DHS00999\n",
    "import re\n",
    "def validate_something(x):\n",
    "    pattern='^[D][H][S][0]{2}[1-9][2-9][0-9]$'\n",
    "    if re.match(pattern,x):\n",
    "        return True\n",
    "    return False\n",
    "validate_something('DHS00120') \n"
   ]
  },
  {
   "cell_type": "code",
   "execution_count": 23,
   "metadata": {},
   "outputs": [
    {
     "name": "stdout",
     "output_type": "stream",
     "text": [
      "8464064858\n",
      "True\n",
      "True\n",
      "True\n"
     ]
    }
   ],
   "source": [
    "# indian mobile number\n",
    "- 9685584554\n",
    "- +91-8464064858\n",
    "- 948464645\n",
    "import re\n",
    "def indian_phonenumber(x):\n",
    "    pattern='^[+][9][1][-][6-9][0-9]{9}$|^[6-9][0-9]{9}$|^[0][6-9][0-9]{9}'\n",
    "    if re.match(pattern,x):\n",
    "        return True\n",
    "    return False\n",
    "x=input()\n",
    "indian_phonenumber(x)\n",
    "print(indian_phonenumber('8464064858'))\n",
    "print(indian_phonenumber('+91-8464064858'))\n",
    "print(indian_phonenumber('08464064858'))"
   ]
  },
  {
   "cell_type": "code",
   "execution_count": 24,
   "metadata": {},
   "outputs": [],
   "source": [
    "#Username Validate\n",
    "# should need to contains One Upper case,6 lower case m.1 DIgit\n"
   ]
  },
  {
   "cell_type": "code",
   "execution_count": null,
   "metadata": {},
   "outputs": [],
   "source": [
    "import re\n",
    ">>> m = re.search('(?<=abc)def', 'abcdef')\n",
    ">>> m.group(0)"
   ]
  }
 ],
 "metadata": {
  "kernelspec": {
   "display_name": "Python 3",
   "language": "python",
   "name": "python3"
  },
  "language_info": {
   "codemirror_mode": {
    "name": "ipython",
    "version": 3
   },
   "file_extension": ".py",
   "mimetype": "text/x-python",
   "name": "python",
   "nbconvert_exporter": "python",
   "pygments_lexer": "ipython3",
   "version": "3.7.1"
  }
 },
 "nbformat": 4,
 "nbformat_minor": 2
}
